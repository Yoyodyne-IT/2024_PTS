{
 "cells": [
  {
   "cell_type": "markdown",
   "id": "f1c030b5-1098-4675-9c0d-8bd73453167a",
   "metadata": {},
   "source": [
    "# Investigation\n",
    "\n",
    "\n",
    "For this last part, you need some kind of dataset to work on, which shouldn't bo to hard afer you start pushing many URLs from your sources, but for this workshoup, we're going to use existing captures on the public instance.\n",
    "\n",
    "## Obvious indicators to pivot\n",
    "\n",
    "### Hostnames and URLs\n",
    "\n",
    "Get all the other captures tht contain the same hostname (or URL) as the one we're looking, in the whole capture, include redirects and all the contents loaded from the landing page.\n",
    "\n",
    "* https://lookyloo.circl.lu/tree/4c2be660-0b57-4ece-abd4-80cb1453c0d1 -> hostnames -> drive.google.com\n",
    "\n",
    "\n",
    "### Ressources hashes\n",
    "\n",
    "Mostly useful for images, as long as they're not been modified from the official website. Also useful to find specific versions of libraries.\n",
    "\n",
    "* https://lookyloo.circl.lu/tree/59ff7708-a401-4186-8319-2b05a200cdba\n",
    "\n",
    "## Less obvious ones\n",
    "\n",
    "### Favicons\n",
    "\n",
    "Important to keep in mind that the favicons aren't fetched by playwright directly, so we have a bit of logic to fetch it on the side.\n",
    "\n",
    "Advantges is that it is very small and can easily be intexed. Lookyloo also supports the hash technique used by Shodan.\n",
    "\n",
    "* https://lookyloo.circl.lu/tree/f25e220c-218e-4353-9c09-a9bea2279473\n",
    "\n",
    "### Google Tag ID\n",
    "\n",
    "This one sounded like a good idea: if a google tag ID is on different captures, they probably have a similar owner => in practice, we barely see them and only have correlations on same URLs\n",
    "\n",
    "* https://lookyloo.circl.lu/tree/8e2759cc-6aa4-4120-bf1b-68f2b0e6daff  (bing, with a Google tag ID)\n",
    "\n",
    "### CERT PL fuzzy hash\n",
    "\n",
    "This one is the most interesting and honestly somewhat surprising. It takes all fhe HTML tag names, concatenate them with `|`, computes the sha256 and takes the first half of it.\n",
    "\n",
    "In practice, it kinda looks like a fussy hash on the structure of a page. And it works surprisingly well\n",
    "\n",
    "* https://lookyloo.circl.lu/tree/4519dad3-d090-4b5f-9d28-725f917ae7df\n",
    "* https://lookyloo.circl.lu/tree/74dd462a-be4f-4b7a-8581-8f4205d55906\n",
    "* https://lookyloo.circl.lu/tree/0d44e958-683a-4975-a0f7-faaaaf4a2bf6"
   ]
  },
  {
   "cell_type": "code",
   "execution_count": null,
   "id": "4b41ab74-b132-4f2c-87ca-f8bd9984b932",
   "metadata": {},
   "outputs": [],
   "source": []
  }
 ],
 "metadata": {
  "kernelspec": {
   "display_name": "Python 3 (ipykernel)",
   "language": "python",
   "name": "python3"
  },
  "language_info": {
   "codemirror_mode": {
    "name": "ipython",
    "version": 3
   },
   "file_extension": ".py",
   "mimetype": "text/x-python",
   "name": "python",
   "nbconvert_exporter": "python",
   "pygments_lexer": "ipython3",
   "version": "3.12.3"
  }
 },
 "nbformat": 4,
 "nbformat_minor": 5
}
